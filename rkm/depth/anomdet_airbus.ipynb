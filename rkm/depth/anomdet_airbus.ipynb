{
 "cells": [
  {
   "cell_type": "markdown",
   "metadata": {},
   "source": [
    "Tutorial on \"Anomaly detection\". Part Python.\n",
    "\n",
    "Author: Pavlo Mozharovskyi.\n",
    "\n",
    "This is a Python Notebook for the tutorial \n",
    "on \"Anomaly detection\" given on Wednesday the 13th of April 2022."
   ]
  },
  {
   "cell_type": "markdown",
   "metadata": {},
   "source": [
    "The data set is provided by the Airbus and consistst of 1677 the measures of the accelerometer of helicopters during  1 minute at frequency 1024 Hertz, which yields time series measured at in total 60 * 1024 = 61440 equidistant time points."
   ]
  },
  {
   "cell_type": "markdown",
   "metadata": {},
   "source": [
    "## 0) Import packages"
   ]
  },
  {
   "cell_type": "code",
   "execution_count": null,
   "metadata": {},
   "outputs": [],
   "source": [
    "import pandas as pd\n",
    "import numpy as np\n",
    "from sklearn.decomposition import PCA\n",
    "from sklearn.neighbors import LocalOutlierFactor\n",
    "import matplotlib.pyplot as plt\n",
    "from FIF import *"
   ]
  },
  {
   "cell_type": "markdown",
   "metadata": {},
   "source": [
    "## 1) Load and investigate the data"
   ]
  },
  {
   "cell_type": "code",
   "execution_count": null,
   "metadata": {},
   "outputs": [],
   "source": [
    "xtrain = np.loadtxt('../data/airbus_data.csv', delimiter = ' ')\n",
    "print(xtrain.shape)"
   ]
  },
  {
   "cell_type": "markdown",
   "metadata": {},
   "source": [
    "### A sample plot"
   ]
  },
  {
   "cell_type": "code",
   "execution_count": null,
   "metadata": {},
   "outputs": [],
   "source": [
    "# Plot first 614 time points for first 100 observations\n",
    "plt.figure(figsize=(16,8))\n",
    "for i in range(100):\n",
    "    plt.plot(range(614),xtrain[i,:614])\n",
    "plt.show()"
   ]
  },
  {
   "cell_type": "markdown",
   "metadata": {},
   "source": [
    "## 2) Preprocess data: reduce measurement frequency (attention - possible information loss)"
   ]
  },
  {
   "cell_type": "code",
   "execution_count": null,
   "metadata": {},
   "outputs": [],
   "source": [
    "nArgs = 101\n",
    "xtrainRed = np.empty([xtrain.shape[0], nArgs])\n",
    "args = np.linspace(0, xtrain.shape[1] - 1, num = nArgs)\n",
    "for i in range(0, xtrain.shape[0]):\n",
    "    xtrainRed[i,:] = np.interp(args, np.array(range(xtrain.shape[1])), xtrain[i,:])\n",
    "print(xtrainRed.shape)"
   ]
  },
  {
   "cell_type": "markdown",
   "metadata": {},
   "source": [
    "## 3) Using the projection on a low-dimensional space"
   ]
  },
  {
   "cell_type": "code",
   "execution_count": null,
   "metadata": {},
   "outputs": [],
   "source": [
    "# PCA transform\n",
    "pca1 = PCA(n_components = 10, whiten = True)\n",
    "pca1.fit(xtrain)\n",
    "xtrain_fpca = pca1.fit_transform(xtrainRed)\n",
    "print(xtrain_fpca.shape)\n",
    "# Fit the low-dimensional method\n",
    "lof1 = LocalOutlierFactor(n_neighbors = 5 ,contamination = 'auto', novelty = True)\n",
    "lof1.fit(xtrain_fpca)\n",
    "# Calculate anomaly score on the (PCA-transformed) data\n",
    "lof1_score = -lof1.score_samples(xtrain_fpca)\n",
    "print(lof1_score)"
   ]
  },
  {
   "cell_type": "markdown",
   "metadata": {},
   "source": [
    "Plot the outcome"
   ]
  },
  {
   "cell_type": "code",
   "execution_count": null,
   "metadata": {},
   "outputs": [],
   "source": [
    "plt.figure(1, figsize=(15, 5))\n",
    "# Plot the 2-dimensional projection\n",
    "plt.subplot(121)\n",
    "plt.scatter(xtrain_fpca[:,0], xtrain_fpca[:,1], c = lof1_score)\n",
    "plt.xlabel('1st PC')\n",
    "plt.ylabel('2nd PC')\n",
    "plt.subplot(122)\n",
    "plt.scatter(range(0, lof1_score.shape[0]), np.sort(lof1_score), c = np.sort(lof1_score))\n",
    "plt.ylabel('LOF novelty score')\n",
    "plt.xlabel('(Score-ordered) observation number')"
   ]
  },
  {
   "cell_type": "markdown",
   "metadata": {},
   "source": [
    "## 4) The functional isolation forest"
   ]
  },
  {
   "cell_type": "code",
   "execution_count": null,
   "metadata": {},
   "outputs": [],
   "source": [
    "dicsFIF = [xtrainRed, 'Dyadic_indicator', 'cosinus']\n",
    "dicTitles = ['Self dictionary', 'Dyadic indicator dictionary', 'Cosine dictionary']\n",
    "psi = 32\n",
    "plt.figure(1, figsize=(15, 5))\n",
    "for i in range(0, len(dicsFIF)):\n",
    "    F = FIForest(xtrainRed, ntrees = 100, time = np.array(range(nArgs)), subsample_size = psi, \n",
    "                 D = dicsFIF[i], innerproduct = \"auto\", Dsize = 100, alpha = 1)\n",
    "    fif1_score = F.compute_paths(X_in = xtrainRed)\n",
    "    plt.subplot(131 + i)\n",
    "    plt.scatter(range(0, fif1_score.shape[0]), np.sort(fif1_score), c = np.sort(fif1_score))\n",
    "    plt.ylabel('FIF novelty score')\n",
    "    plt.xlabel('Observation number')\n",
    "    plt.title(dicTitles[i])"
   ]
  },
  {
   "cell_type": "markdown",
   "metadata": {},
   "source": [
    "## ?) Try other mentioned methods for these data"
   ]
  },
  {
   "cell_type": "code",
   "execution_count": null,
   "metadata": {},
   "outputs": [],
   "source": []
  }
 ],
 "metadata": {
  "anaconda-cloud": {},
  "kernelspec": {
   "display_name": "Python 3 (ipykernel)",
   "language": "python",
   "name": "python3"
  },
  "language_info": {
   "codemirror_mode": {
    "name": "ipython",
    "version": 3
   },
   "file_extension": ".py",
   "mimetype": "text/x-python",
   "name": "python",
   "nbconvert_exporter": "python",
   "pygments_lexer": "ipython3",
   "version": "3.9.7"
  }
 },
 "nbformat": 4,
 "nbformat_minor": 2
}
